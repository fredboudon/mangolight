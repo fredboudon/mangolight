{
 "cells": [
  {
   "cell_type": "code",
   "execution_count": 4,
   "id": "respiratory-humanity",
   "metadata": {},
   "outputs": [
    {
     "name": "stdout",
     "output_type": "stream",
     "text": [
      "0.007 0.3565 0.024\n",
      "0.064 0.434 0.0875\n"
     ]
    }
   ],
   "source": [
    "from ipywidgets import interactive\n",
    "import imp, theozeta\n",
    "imp.reload(theozeta)\n",
    "from theozeta import *\n"
   ]
  },
  {
   "cell_type": "code",
   "execution_count": 5,
   "id": "physical-manor",
   "metadata": {},
   "outputs": [
    {
     "data": {
      "application/vnd.jupyter.widget-view+json": {
       "model_id": "a855142cab40474fb2d7204b05d9c5c6",
       "version_major": 2,
       "version_minor": 0
      },
      "text/plain": [
       "interactive(children=(FloatSlider(value=0.0, description='gapfraction', max=1.0, step=0.01), FloatSlider(value…"
      ]
     },
     "metadata": {},
     "output_type": "display_data"
    }
   ],
   "source": [
    "interactive_plot2 = interactive(plot_zeta_scattering_simp,gapfraction=(0.0, 1.0, 0.01), \n",
    "                                                  pR=(0.0, 0.5, 0.01), \n",
    "                                                  pFR=(0.0, 0.5, 0.01), \n",
    "                                                  pPAR=(0.0, 0.5, 0.01), \n",
    "                                                  nblayers=(1,20),\n",
    "                                                  scatteringlevel=(0,100), continuous_update=False)\n",
    "\n",
    "interactive_plot2"
   ]
  },
  {
   "cell_type": "code",
   "execution_count": null,
   "id": "novel-dominant",
   "metadata": {},
   "outputs": [],
   "source": []
  }
 ],
 "metadata": {
  "kernelspec": {
   "display_name": "Python 3",
   "language": "python",
   "name": "python3"
  },
  "language_info": {
   "codemirror_mode": {
    "name": "ipython",
    "version": 3
   },
   "file_extension": ".py",
   "mimetype": "text/x-python",
   "name": "python",
   "nbconvert_exporter": "python",
   "pygments_lexer": "ipython3",
   "version": "3.8.7"
  }
 },
 "nbformat": 4,
 "nbformat_minor": 5
}
