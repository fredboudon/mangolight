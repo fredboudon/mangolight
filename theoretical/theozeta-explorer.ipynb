{
 "cells": [
  {
   "cell_type": "code",
   "execution_count": 1,
   "id": "respiratory-humanity",
   "metadata": {},
   "outputs": [
    {
     "ename": "SyntaxError",
     "evalue": "invalid syntax (display_theozeta.py, line 14)",
     "output_type": "error",
     "traceback": [
      "Traceback \u001b[0;36m(most recent call last)\u001b[0m:\n",
      "  File \u001b[1;32m\"/opt/local/Library/Frameworks/Python.framework/Versions/3.8/lib/python3.8/site-packages/IPython/core/interactiveshell.py\"\u001b[0m, line \u001b[1;32m3427\u001b[0m, in \u001b[1;35mrun_code\u001b[0m\n    exec(code_obj, self.user_global_ns, self.user_ns)\n",
      "  File \u001b[1;32m\"<ipython-input-1-a4ce15534981>\"\u001b[0m, line \u001b[1;32m2\u001b[0m, in \u001b[1;35m<module>\u001b[0m\n    import imp, theozeta\n",
      "\u001b[0;36m  File \u001b[0;32m\"/Users/fboudon/Develop/oagit/mangolight/theoretical/theozeta.py\"\u001b[0;36m, line \u001b[0;32m2\u001b[0;36m, in \u001b[0;35m<module>\u001b[0;36m\u001b[0m\n\u001b[0;31m    from display_theozeta import *\u001b[0m\n",
      "\u001b[0;36m  File \u001b[0;32m\"/Users/fboudon/Develop/oagit/mangolight/theoretical/display_theozeta.py\"\u001b[0;36m, line \u001b[0;32m14\u001b[0m\n\u001b[0;31m    color = cmap(norm(v)) if not np.isnan(v) ELSE 'black'\u001b[0m\n\u001b[0m                                             ^\u001b[0m\n\u001b[0;31mSyntaxError\u001b[0m\u001b[0;31m:\u001b[0m invalid syntax\n"
     ]
    }
   ],
   "source": [
    "from ipywidgets import interactive\n",
    "import imp, theozeta\n",
    "imp.reload(theozeta)\n",
    "from theozeta import *\n"
   ]
  },
  {
   "cell_type": "code",
   "execution_count": null,
   "id": "physical-manor",
   "metadata": {},
   "outputs": [],
   "source": [
    "interactive_plot2 = interactive(plot_zeta_scattering_simp,gapfraction=(0.0, 1.0, 0.01), \n",
    "                                                  pR=(0.0, 0.5, 0.01), \n",
    "                                                  pFR=(0.0, 0.5, 0.01), \n",
    "                                                  pPAR=(0.0, 0.5, 0.01), \n",
    "                                                  nblayers=(1,20),\n",
    "                                                  scatteringlevel=(0,100), continuous_update=False)\n",
    "\n",
    "interactive_plot2"
   ]
  },
  {
   "cell_type": "code",
   "execution_count": null,
   "id": "novel-dominant",
   "metadata": {},
   "outputs": [],
   "source": []
  }
 ],
 "metadata": {
  "kernelspec": {
   "display_name": "Python 3",
   "language": "python",
   "name": "python3"
  },
  "language_info": {
   "codemirror_mode": {
    "name": "ipython",
    "version": 3
   },
   "file_extension": ".py",
   "mimetype": "text/x-python",
   "name": "python",
   "nbconvert_exporter": "python",
   "pygments_lexer": "ipython3",
   "version": "3.8.7"
  }
 },
 "nbformat": 4,
 "nbformat_minor": 5
}
