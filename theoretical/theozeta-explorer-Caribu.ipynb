{
 "cells": [
  {
   "cell_type": "code",
   "execution_count": 7,
   "metadata": {},
   "outputs": [
    {
     "name": "stdout",
     "output_type": "stream",
     "text": [
      "0.007 0.3565 0.024\n",
      "0.064 0.434 0.0875\n"
     ]
    }
   ],
   "source": [
    "from ipywidgets import interactive\n",
    "import imp, theozeta\n",
    "imp.reload(theozeta)\n",
    "from theozeta import *\n"
   ]
  },
  {
   "cell_type": "code",
   "execution_count": 1,
   "metadata": {},
   "outputs": [
    {
     "ename": "NameError",
     "evalue": "name 'interactive' is not defined",
     "output_type": "error",
     "traceback": [
      "\u001b[1;31m---------------------------------------------------------------------------\u001b[0m",
      "\u001b[1;31mNameError\u001b[0m                                 Traceback (most recent call last)",
      "\u001b[1;32m<ipython-input-1-b88e2f3b9a3b>\u001b[0m in \u001b[0;36m<module>\u001b[1;34m\u001b[0m\n\u001b[1;32m----> 1\u001b[1;33m interactive_plot2 = interactive(plot_zeta_scattering_simp,gapfraction=(0.0, 1.0, 0.01), \n\u001b[0m\u001b[0;32m      2\u001b[0m                                                   \u001b[0mpR\u001b[0m\u001b[1;33m=\u001b[0m\u001b[1;33m(\u001b[0m\u001b[1;36m0.0\u001b[0m\u001b[1;33m,\u001b[0m \u001b[1;36m0.5\u001b[0m\u001b[1;33m,\u001b[0m \u001b[1;36m0.01\u001b[0m\u001b[1;33m)\u001b[0m\u001b[1;33m,\u001b[0m\u001b[1;33m\u001b[0m\u001b[1;33m\u001b[0m\u001b[0m\n\u001b[0;32m      3\u001b[0m                                                   \u001b[0mpFR\u001b[0m\u001b[1;33m=\u001b[0m\u001b[1;33m(\u001b[0m\u001b[1;36m0.0\u001b[0m\u001b[1;33m,\u001b[0m \u001b[1;36m0.5\u001b[0m\u001b[1;33m,\u001b[0m \u001b[1;36m0.01\u001b[0m\u001b[1;33m)\u001b[0m\u001b[1;33m,\u001b[0m\u001b[1;33m\u001b[0m\u001b[1;33m\u001b[0m\u001b[0m\n\u001b[0;32m      4\u001b[0m                                                   \u001b[0mpPAR\u001b[0m\u001b[1;33m=\u001b[0m\u001b[1;33m(\u001b[0m\u001b[1;36m0.0\u001b[0m\u001b[1;33m,\u001b[0m \u001b[1;36m0.5\u001b[0m\u001b[1;33m,\u001b[0m \u001b[1;36m0.01\u001b[0m\u001b[1;33m)\u001b[0m\u001b[1;33m,\u001b[0m\u001b[1;33m\u001b[0m\u001b[1;33m\u001b[0m\u001b[0m\n\u001b[0;32m      5\u001b[0m                                                   \u001b[0mnblayers\u001b[0m\u001b[1;33m=\u001b[0m\u001b[1;33m(\u001b[0m\u001b[1;36m1\u001b[0m\u001b[1;33m,\u001b[0m\u001b[1;36m20\u001b[0m\u001b[1;33m)\u001b[0m\u001b[1;33m,\u001b[0m\u001b[1;33m\u001b[0m\u001b[1;33m\u001b[0m\u001b[0m\n",
      "\u001b[1;31mNameError\u001b[0m: name 'interactive' is not defined"
     ]
    }
   ],
   "source": [
    "interactive_plot2 = interactive(plot_zeta_scattering_simp,gapfraction=(0.0, 1.0, 0.01), \n",
    "                                                  pR=(0.0, 0.5, 0.01), \n",
    "                                                  pFR=(0.0, 0.5, 0.01), \n",
    "                                                  pPAR=(0.0, 0.5, 0.01), \n",
    "                                                  nblayers=(1,20),\n",
    "                                                  scatteringlevel=(0,100), continuous_update=False)\n",
    "\n",
    "interactive_plot2"
   ]
  },
  {
   "cell_type": "markdown",
   "metadata": {},
   "source": [
    "interactive_plot = interactive(plot_zeta, tR=(0.0, 1.0, 0.01), \n",
    "                                          tFR=(0.0, 1.0, 0.01), \n",
    "                                          tPAR=(0.0, 1.0, 0.01), \n",
    "                                          dm=(0.0, 1.0, 0.1))\n",
    "\n",
    "interactive_plot"
   ]
  },
  {
   "cell_type": "markdown",
   "metadata": {},
   "source": [
    "interactive_plot2 = interactive(plot_zeta_scattering,gapfraction=(0.0, 1.0, 0.01), \n",
    "                                                  tR=(0.0, 1.0, 0.01), \n",
    "                                                  tFR=(0.0, 1.0, 0.01), \n",
    "                                                  tPAR=(0.0, 1.0, 0.01), \n",
    "                                                  rR=(0.0, 1.0, 0.01), \n",
    "                                                  rFR=(0.0, 1.0, 0.01), \n",
    "                                                  rPAR=(0.0, 1.0, 0.01), \n",
    "                                                  nblayers=(1,20),\n",
    "                                                  scattering=(0,30), continuous_update=False)\n",
    "\n",
    "interactive_plot2"
   ]
  },
  {
   "cell_type": "code",
   "execution_count": null,
   "metadata": {},
   "outputs": [],
   "source": []
  },
  {
   "cell_type": "code",
   "execution_count": null,
   "metadata": {},
   "outputs": [],
   "source": []
  }
 ],
 "metadata": {
  "kernelspec": {
   "display_name": "Python 3",
   "language": "python",
   "name": "python3"
  },
  "language_info": {
   "codemirror_mode": {
    "name": "ipython",
    "version": 3
   },
   "file_extension": ".py",
   "mimetype": "text/x-python",
   "name": "python",
   "nbconvert_exporter": "python",
   "pygments_lexer": "ipython3",
   "version": "3.7.4"
  }
 },
 "nbformat": 4,
 "nbformat_minor": 5
}
