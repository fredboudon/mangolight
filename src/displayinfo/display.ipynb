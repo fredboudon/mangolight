{
 "cells": [
  {
   "cell_type": "code",
   "execution_count": 1,
   "id": "incomplete-mainstream",
   "metadata": {},
   "outputs": [],
   "source": [
    "from pgljupyter import *\n",
    "from display_leafinfo import *\n"
   ]
  },
  {
   "cell_type": "markdown",
   "id": "effective-mount",
   "metadata": {},
   "source": [
    "## Read input data"
   ]
  },
  {
   "cell_type": "code",
   "execution_count": 11,
   "id": "personal-flour",
   "metadata": {},
   "outputs": [
    {
     "name": "stdout",
     "output_type": "stream",
     "text": [
      "['XX', 'YY', 'ZZ', 'Elevation', 'Azimuth', 'TopoLeafDepth', 'TopoRootDepth', 'SphericalDepth', 'HorizontalDepth']\n"
     ]
    }
   ],
   "source": [
    "inputfile = \"leafinfo.csv\"\n",
    "#inputfile = \"../results-rcrs-reunionpo-60-win32/partial_result_2017-01-12_diffus_00.csv\"\n",
    "\n",
    "data = read_data(inputfile)\n",
    "print(list(data.columns))"
   ]
  },
  {
   "cell_type": "markdown",
   "id": "explicit-preliminary",
   "metadata": {},
   "source": [
    "## Compute representation"
   ]
  },
  {
   "cell_type": "code",
   "execution_count": 9,
   "id": "medieval-freight",
   "metadata": {},
   "outputs": [],
   "source": [
    "colname = 'SphericalDepth'\n",
    "colname = 'Diffus-00-Rs-Ei'\n",
    "\n",
    "scene = scene_from_data(data, colname)"
   ]
  },
  {
   "cell_type": "markdown",
   "id": "round-monkey",
   "metadata": {},
   "source": [
    "### Display"
   ]
  },
  {
   "cell_type": "code",
   "execution_count": 10,
   "id": "healthy-routine",
   "metadata": {},
   "outputs": [
    {
     "data": {
      "application/vnd.jupyter.widget-view+json": {
       "model_id": "09904f9514fa4ca4ac59149b538057b8",
       "version_major": 2,
       "version_minor": 0
      },
      "text/plain": [
       "SceneWidget(scenes=[{'id': '97SuNNon5fty9rWasYwm4WCLF', 'data': b'x\\xda\\x8c\\x9d\\x07|\\x0c\\xf9\\xff\\xffW\\x08[\\x94…"
      ]
     },
     "metadata": {},
     "output_type": "display_data"
    }
   ],
   "source": [
    "SceneWidget(scene, size_world = 600, size_display = (800,800))"
   ]
  },
  {
   "cell_type": "code",
   "execution_count": null,
   "id": "bronze-decline",
   "metadata": {},
   "outputs": [],
   "source": []
  }
 ],
 "metadata": {
  "kernelspec": {
   "display_name": "Python 3",
   "language": "python",
   "name": "python3"
  },
  "language_info": {
   "codemirror_mode": {
    "name": "ipython",
    "version": 3
   },
   "file_extension": ".py",
   "mimetype": "text/x-python",
   "name": "python",
   "nbconvert_exporter": "python",
   "pygments_lexer": "ipython3",
   "version": "3.8.7"
  }
 },
 "nbformat": 4,
 "nbformat_minor": 5
}
