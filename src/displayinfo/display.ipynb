{
 "cells": [
  {
   "cell_type": "code",
   "execution_count": 1,
   "id": "smart-barcelona",
   "metadata": {},
   "outputs": [],
   "source": [
    "from pgljupyter import *\n",
    "from display_leafinfo import *"
   ]
  },
  {
   "cell_type": "markdown",
   "id": "incoming-fetish",
   "metadata": {},
   "source": [
    "## Read input data"
   ]
  },
  {
   "cell_type": "code",
   "execution_count": 6,
   "id": "complete-bathroom",
   "metadata": {},
   "outputs": [
    {
     "name": "stdout",
     "output_type": "stream",
     "text": [
      "Index(['XX', 'YY', 'ZZ', 'Elevation', 'Azimuth', 'TopoLeafDepth',\n",
      "       'TopoRootDepth', 'SphericalDepth', 'HorizontalDepth'],\n",
      "      dtype='object')\n"
     ]
    }
   ],
   "source": [
    "inputfile = \"leafinfo.csv\"\n",
    "data = read_data(inputfile)\n",
    "print(data.columns)"
   ]
  },
  {
   "cell_type": "markdown",
   "id": "annual-persian",
   "metadata": {},
   "source": [
    "## Compute representation"
   ]
  },
  {
   "cell_type": "code",
   "execution_count": 4,
   "id": "ideal-carnival",
   "metadata": {},
   "outputs": [],
   "source": [
    "colname = 'HorizontalDepth'\n",
    "scene = scene_from_data(data, colname)"
   ]
  },
  {
   "cell_type": "markdown",
   "id": "potential-banking",
   "metadata": {},
   "source": [
    "### Display"
   ]
  },
  {
   "cell_type": "code",
   "execution_count": 5,
   "id": "fatal-mailing",
   "metadata": {},
   "outputs": [
    {
     "data": {
      "application/vnd.jupyter.widget-view+json": {
       "model_id": "fc0927e4892140c18e9b0ec57f5454fe",
       "version_major": 2,
       "version_minor": 0
      },
      "text/plain": [
       "SceneWidget(scenes=[{'id': 'qt72huwZReC8xNxAgYqz8mXDJ', 'data': b'x\\xda\\x8c\\x9d\\t|L\\xd7\\xdf\\xffG\\x88%\\x94 j\\'\\…"
      ]
     },
     "metadata": {},
     "output_type": "display_data"
    }
   ],
   "source": [
    "SceneWidget(scene, size_world = 600, size_display = (800,800))"
   ]
  },
  {
   "cell_type": "code",
   "execution_count": null,
   "id": "lesbian-watts",
   "metadata": {},
   "outputs": [],
   "source": []
  }
 ],
 "metadata": {
  "kernelspec": {
   "display_name": "Python 3",
   "language": "python",
   "name": "python3"
  },
  "language_info": {
   "codemirror_mode": {
    "name": "ipython",
    "version": 3
   },
   "file_extension": ".py",
   "mimetype": "text/x-python",
   "name": "python",
   "nbconvert_exporter": "python",
   "pygments_lexer": "ipython3",
   "version": "3.8.7"
  }
 },
 "nbformat": 4,
 "nbformat_minor": 5
}
